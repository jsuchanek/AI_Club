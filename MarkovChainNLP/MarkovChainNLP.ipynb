{
 "cells": [
  {
   "cell_type": "code",
   "execution_count": 10,
   "id": "67f228f6",
   "metadata": {},
   "outputs": [
    {
     "name": "stderr",
     "output_type": "stream",
     "text": [
      "[nltk_data] Downloading package punkt to\n",
      "[nltk_data]     C:\\Users\\18432\\AppData\\Roaming\\nltk_data...\n",
      "[nltk_data]   Unzipping tokenizers\\punkt.zip.\n"
     ]
    },
    {
     "data": {
      "text/plain": [
       "True"
      ]
     },
     "execution_count": 10,
     "metadata": {},
     "output_type": "execute_result"
    }
   ],
   "source": [
    "import nltk\n",
    "\n",
    "# Download the punkt resource\n",
    "nltk.download('punkt')"
   ]
  },
  {
   "cell_type": "code",
   "execution_count": 6,
   "id": "aafd17b3",
   "metadata": {},
   "outputs": [],
   "source": [
    "import numpy as np\n",
    "import pandas as pd\n",
    "import os\n",
    "import re\n",
    "import string\n",
    "from nltk.tokenize import word_tokenize\n",
    "from nltk.corpus import stopwords\n",
    "import random"
   ]
  },
  {
   "cell_type": "code",
   "execution_count": 4,
   "id": "cf57e07f",
   "metadata": {},
   "outputs": [
    {
     "name": "stdout",
     "output_type": "stream",
     "text": [
      "number of lines =  215021\n"
     ]
    }
   ],
   "source": [
    "story_path = \"C:\\\\Users\\\\18432\\\\Downloads\\\\sherlock\\\\sherlock\\\\\"\n",
    "\n",
    "def read_all_stories(story_path):\n",
    "    txt = []\n",
    "    for _, _, files in os.walk(story_path):\n",
    "        for file in files:\n",
    "            with open(story_path+file) as f:\n",
    "                for line in f:\n",
    "                    line = line.strip()\n",
    "                    if line=='----------': break\n",
    "                    if line!='':txt.append(line)\n",
    "    return txt\n",
    "        \n",
    "stories = read_all_stories(story_path)\n",
    "print(\"number of lines = \", len(stories))"
   ]
  },
  {
   "cell_type": "code",
   "execution_count": 11,
   "id": "9cb28dd2",
   "metadata": {},
   "outputs": [
    {
     "name": "stdout",
     "output_type": "stream",
     "text": [
      "number of words =  2332110\n"
     ]
    }
   ],
   "source": [
    "def clean_txt(txt):\n",
    "    cleaned_txt = []\n",
    "    for line in txt:\n",
    "        line = line.lower()\n",
    "        line = re.sub(r\"[,.\\\"\\'!@#$%^&*(){}?/;`~:<>+=-\\\\]\", \"\", line)\n",
    "        tokens = word_tokenize(line)\n",
    "        words = [word for word in tokens if word.isalpha()]\n",
    "        cleaned_txt+=words\n",
    "    return cleaned_txt\n",
    "\n",
    "cleaned_stories = clean_txt(stories)\n",
    "print(\"number of words = \", len(cleaned_stories))"
   ]
  },
  {
   "cell_type": "code",
   "execution_count": 12,
   "id": "b4632ef9",
   "metadata": {},
   "outputs": [],
   "source": [
    "def make_markov_model(cleaned_stories, n_gram=2):\n",
    "    markov_model = {}\n",
    "    for i in range(len(cleaned_stories)-n_gram-1):\n",
    "        curr_state, next_state = \"\", \"\"\n",
    "        for j in range(n_gram):\n",
    "            curr_state += cleaned_stories[i+j] + \" \"\n",
    "            next_state += cleaned_stories[i+j+n_gram] + \" \"\n",
    "        curr_state = curr_state[:-1]\n",
    "        next_state = next_state[:-1]\n",
    "        if curr_state not in markov_model:\n",
    "            markov_model[curr_state] = {}\n",
    "            markov_model[curr_state][next_state] = 1\n",
    "        else:\n",
    "            if next_state in markov_model[curr_state]:\n",
    "                markov_model[curr_state][next_state] += 1\n",
    "            else:\n",
    "                markov_model[curr_state][next_state] = 1\n",
    "    \n",
    "    # calculating transition probabilities\n",
    "    for curr_state, transition in markov_model.items():\n",
    "        total = sum(transition.values())\n",
    "        for state, count in transition.items():\n",
    "            markov_model[curr_state][state] = count/total\n",
    "        \n",
    "    return markov_model"
   ]
  },
  {
   "cell_type": "code",
   "execution_count": 13,
   "id": "467978e1",
   "metadata": {},
   "outputs": [],
   "source": [
    "markov_model = make_markov_model(cleaned_stories)"
   ]
  },
  {
   "cell_type": "code",
   "execution_count": 14,
   "id": "91f0fd3d",
   "metadata": {},
   "outputs": [
    {
     "name": "stdout",
     "output_type": "stream",
     "text": [
      "number of states =  208670\n"
     ]
    }
   ],
   "source": [
    "print(\"number of states = \", len(markov_model.keys()))"
   ]
  },
  {
   "cell_type": "code",
   "execution_count": 15,
   "id": "bfdd24ee",
   "metadata": {},
   "outputs": [
    {
     "name": "stdout",
     "output_type": "stream",
     "text": [
      "All possible transitions from 'the game' state: \n",
      "\n",
      "{'your letter': 0.02702702702702703, 'was up': 0.09009009009009009, 'is afoot': 0.036036036036036036, 'for the': 0.036036036036036036, 'was in': 0.02702702702702703, 'is hardly': 0.02702702702702703, 'would have': 0.036036036036036036, 'is up': 0.06306306306306306, 'is and': 0.036036036036036036, 'in their': 0.036036036036036036, 'was whist': 0.036036036036036036, 'in that': 0.036036036036036036, 'the lack': 0.036036036036036036, 'for all': 0.06306306306306306, 'may wander': 0.02702702702702703, 'now a': 0.02702702702702703, 'my own': 0.02702702702702703, 'at any': 0.02702702702702703, 'mr holmes': 0.02702702702702703, 'ay whats': 0.02702702702702703, 'my friend': 0.02702702702702703, 'fairly by': 0.02702702702702703, 'is not': 0.02702702702702703, 'was not': 0.02702702702702703, 'was afoot': 0.036036036036036036, 'worth it': 0.02702702702702703, 'you are': 0.02702702702702703, 'i am': 0.02702702702702703, 'now count': 0.02702702702702703}\n"
     ]
    }
   ],
   "source": [
    "print(\"All possible transitions from 'the game' state: \\n\")\n",
    "print(markov_model['the game'])"
   ]
  },
  {
   "cell_type": "code",
   "execution_count": 16,
   "id": "5435173a",
   "metadata": {},
   "outputs": [],
   "source": [
    "def generate_story(markov_model, limit=100, start='my god'):\n",
    "    n = 0\n",
    "    curr_state = start\n",
    "    next_state = None\n",
    "    story = \"\"\n",
    "    story+=curr_state+\" \"\n",
    "    while n<limit:\n",
    "        next_state = random.choices(list(markov_model[curr_state].keys()),\n",
    "                                    list(markov_model[curr_state].values()))\n",
    "        \n",
    "        curr_state = next_state[0]\n",
    "        story+=curr_state+\" \"\n",
    "        n+=1\n",
    "    return story"
   ]
  },
  {
   "cell_type": "code",
   "execution_count": 17,
   "id": "36d88189",
   "metadata": {},
   "outputs": [
    {
     "name": "stdout",
     "output_type": "stream",
     "text": [
      "0.  dear holmes if i see her dainty form about the paper which he had wonderful polite ways with \n",
      "1.  dear holmes what do you suggest i know it and attacked it there were three possible explanations of \n",
      "2.  dear holmes he has been judged over there thats no business of the abernetty family was first brought \n",
      "3.  dear holmes i ejaculated well really it seems that it is from his agents the blow but my \n",
      "4.  dear holmes i have a vague impression of a plump little hand extended murmuring his regret for having \n",
      "5.  dear holmes i thought of what passes between us we picked up his leather gripsack and was about \n",
      "6.  dear holmes oh yes there are one or two very singular points about this strange and painful episodes \n",
      "7.  dear holmes i have heard coldstream guards thank you i need not discuss that was the motive which \n",
      "8.  dear holmes oh yes in a perplexing position look here watson there is one of those who sat \n",
      "9.  dear holmes said i i give you a family i have no objection to my looking at your \n",
      "10.  dear holmes i have tennis shoes excellent and a mask to showing his face quite an inch and \n",
      "11.  dear holmes i ejaculated commonplace said holmes though i thought the matter i retired to my children you \n",
      "12.  dear holmes am i such a different type how came these two men if you use the word \n",
      "13.  dear holmes i exclaimed oh the cunning rascal this is your man is more private than i expected \n",
      "14.  dear holmes i ejaculated from my mind again as i can make no use to deny his signature \n",
      "15.  dear holmes oh yes you can see as he passed on but i have given you the pointer \n",
      "16.  dear holmes oh yes said he we have not yet grasped and which might induce sir henry to \n",
      "17.  dear holmes said i it is he unfolded and disclosed a golden with two men one or other \n",
      "18.  dear holmes oh yes my dear fellow he sees him enter a house he has been trampled up \n",
      "19.  dear holmes he has not entirely happy at home miss alice wasnt from the walls of her her \n"
     ]
    }
   ],
   "source": [
    "for i in range(20):\n",
    "    print(str(i)+\". \", generate_story(markov_model, start=\"dear holmes\", limit=8))"
   ]
  },
  {
   "cell_type": "code",
   "execution_count": 18,
   "id": "ca063fb8",
   "metadata": {},
   "outputs": [
    {
     "name": "stdout",
     "output_type": "stream",
     "text": [
      "0.  i am not mistaken and we were aware of it yes but \n",
      "1.  i am here again if you will permit us and my heart \n",
      "2.  i am quite at home with his heart that he had done \n",
      "3.  i am relieved but i think none said holmes but the dearest \n",
      "4.  i am at last at last to have the hall and a \n",
      "5.  i am sure they were real friends well then we must take \n",
      "6.  i am afraid so i had been less than six and a \n",
      "7.  i am sure but i know holmes took a from the wall \n",
      "8.  i am connected with our inquiry has already crossed your mind said \n",
      "9.  i am correct colonel in saying that the breach is quite healed \n",
      "10.  i am reckoned fleet of foot and firm of grasp climbing apparently \n",
      "11.  i am not the murderer no the murderer has escaped there is \n",
      "12.  i am not aware of the opposite houses and the door as \n",
      "13.  i am not tired i have had several others of the fiercest \n",
      "14.  i am we have dreamed of doing so i took a cab \n",
      "15.  i am afraid there are no great number of those bulky boxes \n",
      "16.  i am still so weak that i have done my best for \n",
      "17.  i am rather disappointed in our investigation when i observed the title \n",
      "18.  i am not so tall as gilchrist i suppose five foot six \n",
      "19.  i am this mans trail there is a very serious indeed i \n"
     ]
    }
   ],
   "source": [
    "for i in range(20):\n",
    "    print(str(i)+\". \", generate_story(markov_model, start=\"i am\", limit=5))"
   ]
  },
  {
   "cell_type": "code",
   "execution_count": null,
   "id": "b8b59147",
   "metadata": {},
   "outputs": [],
   "source": []
  }
 ],
 "metadata": {
  "kernelspec": {
   "display_name": "Python 3 (ipykernel)",
   "language": "python",
   "name": "python3"
  },
  "language_info": {
   "codemirror_mode": {
    "name": "ipython",
    "version": 3
   },
   "file_extension": ".py",
   "mimetype": "text/x-python",
   "name": "python",
   "nbconvert_exporter": "python",
   "pygments_lexer": "ipython3",
   "version": "3.10.9"
  }
 },
 "nbformat": 4,
 "nbformat_minor": 5
}
